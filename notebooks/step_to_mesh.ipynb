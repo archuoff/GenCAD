{
 "cells": [
  {
   "cell_type": "code",
   "execution_count": 2,
   "id": "f4a94d6b-872e-4f83-9dbb-abca8c2588cc",
   "metadata": {},
   "outputs": [],
   "source": [
    "import os\n",
    "from OCC.Core.STEPControl import STEPControl_Reader\n",
    "from OCC.Core.BRepMesh import BRepMesh_IncrementalMesh\n",
    "from OCC.Core.StlAPI import StlAPI_Writer"
   ]
  },
  {
   "cell_type": "code",
   "execution_count": 3,
   "id": "93afc959-068c-4016-b4bb-2792c437cd76",
   "metadata": {},
   "outputs": [],
   "source": [
    "def read_step_file(filename):\n",
    "    \"\"\"Read a STEP file and return the shape.\"\"\"\n",
    "    step_reader = STEPControl_Reader()\n",
    "    status = step_reader.ReadFile(filename)\n",
    "    if status != 1:  # Check if read was successful\n",
    "        raise RuntimeError(f\"Error reading STEP file: {filename}\")\n",
    "    step_reader.TransferRoot()\n",
    "    shape = step_reader.Shape()\n",
    "    return shape\n",
    "\n",
    "def mesh_shape_with_params(shape, linear_deflection=0.1, angular_deflection=0.1, load_params=None):\n",
    "    \"\"\"\n",
    "    Generate a mesh for the shape with simulation parameters like load and boundary conditions.\n",
    "    \"\"\"\n",
    "    # Create the mesh\n",
    "    mesh = BRepMesh_IncrementalMesh(shape, linear_deflection, True, angular_deflection)\n",
    "\n",
    "    # Apply load and boundary conditions if provided\n",
    "    if load_params:\n",
    "        # Example of applying load parameters (conceptual)\n",
    "        print(f\"Applying load: {load_params.get('force', 'N/A')} at location: {load_params.get('location', 'N/A')}\")\n",
    "        print(f\"Boundary condition: {load_params.get('boundary_conditions', 'N/A')}\")\n",
    "\n",
    "        # Note: Actual load and boundary condition application must be handled in a simulation tool.\n",
    "\n",
    "    # Perform meshing\n",
    "    mesh.Perform()\n",
    "    return shape  # The shape is meshed in-place\n",
    "\n",
    "def write_stl(shape, output_filename):\n",
    "    \"\"\"Write the shape to an STL file.\"\"\"\n",
    "    stl_writer = StlAPI_Writer()\n",
    "    stl_writer.Write(shape, output_filename)\n",
    "\n",
    "def step_to_stl_with_loads(input_file, load_params):\n",
    "    \"\"\"Convert a STEP file to an STL file with load parameters.\"\"\"\n",
    "    # Extract the base name and create the output file name\n",
    "    base_name = os.path.splitext(input_file)[0]\n",
    "    output_file = f\"{base_name}.stl\"\n",
    "    \n",
    "    # Read the shape from STEP file\n",
    "    shape = read_step_file(input_file)\n",
    "\n",
    "    # Mesh the shape with load and boundary conditions\n",
    "    mesh_shape_with_params(shape, load_params=load_params)\n",
    "\n",
    "    # Write to STL file for simulation\n",
    "    write_stl(shape, output_file)\n",
    "\n",
    "def process_files(file_list, load_params):\n",
    "    \"\"\"Process a list of STEP files and generate corresponding STL files.\"\"\"\n",
    "    for step_file in file_list:\n",
    "        step_to_stl_with_loads(step_file, load_params)"
   ]
  },
  {
   "cell_type": "code",
   "execution_count": 5,
   "id": "cc41b10f-6b3b-4958-8162-020f32ffbb67",
   "metadata": {},
   "outputs": [
    {
     "name": "stdout",
     "output_type": "stream",
     "text": [
      "Applying load: 100 N at location: (0, 0, 0)\n",
      "Boundary condition: Fixed\n",
      "Applying load: 100 N at location: (0, 0, 0)\n",
      "Boundary condition: Fixed\n",
      "Applying load: 100 N at location: (0, 0, 0)\n",
      "Boundary condition: Fixed\n",
      "Applying load: 100 N at location: (0, 0, 0)\n",
      "Boundary condition: Fixed\n",
      "Applying load: 100 N at location: (0, 0, 0)\n",
      "Boundary condition: Fixed\n"
     ]
    }
   ],
   "source": [
    "step_files = [\n",
    "    '100D.STEP',\n",
    "    '60D.STEP',\n",
    "    '70D.STEP',\n",
    "    '80D.STEP',\n",
    "    '90D.STEP'\n",
    "]\n",
    "\n",
    "load_parameters = {\n",
    "    \"force\": \"100 N\",  # Example load force\n",
    "    \"location\": (0, 0, 0),  # Example location of the force (e.g., coordinates on the shape)\n",
    "    \"boundary_conditions\": \"Fixed\",  # Example boundary condition\n",
    "}\n",
    "\n",
    "# Process all files\n",
    "process_files(step_files, load_parameters)"
   ]
  },
  {
   "cell_type": "code",
   "execution_count": null,
   "id": "dd80a998-3caf-4773-8c06-a4f524642198",
   "metadata": {},
   "outputs": [],
   "source": []
  }
 ],
 "metadata": {
  "kernelspec": {
   "display_name": "GenCAD-conda",
   "language": "python",
   "name": "gencad-conda"
  },
  "language_info": {
   "codemirror_mode": {
    "name": "ipython",
    "version": 3
   },
   "file_extension": ".py",
   "mimetype": "text/x-python",
   "name": "python",
   "nbconvert_exporter": "python",
   "pygments_lexer": "ipython3",
   "version": "3.12.5"
  }
 },
 "nbformat": 4,
 "nbformat_minor": 5
}
